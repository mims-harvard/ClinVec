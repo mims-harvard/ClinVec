{
 "cells": [
  {
   "cell_type": "markdown",
   "id": "bb70c426",
   "metadata": {},
   "source": [
    "# Overview of ClinGraph & ClinVec"
   ]
  },
  {
   "cell_type": "markdown",
   "id": "6370a41b",
   "metadata": {},
   "source": [
    "### Downloading ClinGraph from Harvard Dataverse\n",
    "\n",
    "Navigate to the dataset's repository. There is no login required: [https://dataverse.harvard.edu/dataset.xhtml?persistentId=doi:10.7910/DVN/Z6H1A8](https://dataverse.harvard.edu/dataset.xhtml?persistentId=doi:10.7910/DVN/Z6H1A8)\n",
    "\n",
    "<img src=\"img/screen_1.png\"  width=\"500\"/>\n",
    "\n",
    "Click on the Download button. This will open a tab where you can click how you'd like to download. Pick the original format. Here is a brief description of each file. The details on column names are in the README.\n",
    "\n",
    "- `ClinGraph_node.csv`: this contains all the node metadata and index information.\n",
    "- `ClinGraph_edges.csv`: this contains the triplet information used to construct the KG. We also include each node's metadata that's found in ClinGraph_node.csv for convenience.\n",
    "- `ClinGraph_dgl.bin`: ClinGraph in DGL binary format. We store the node types and node features under the node data (`ndata`) attribute. \n",
    "- `ClinGraph_adjlist.csv`: ClinGraph in adjacency list format; format matches NetworkX syntax. This format does not include node features. \n",
    "- `ClinGraph_pyg.pt`: ClinGraph as a PyTorch Genometric object. Node features are saved under the `x` attribute.\n",
    "- `ClinGraph_features.csv`: csv file containing vectors size 1x1024 used as node features in HGT training. Values are generated using Xavier noise, but we provide the exact values for reproducibility. \n",
    "\n",
    "<img src=\"img/screen_2.png\"  width=\"500\"/>"
   ]
  },
  {
   "cell_type": "markdown",
   "id": "4d91ebbc",
   "metadata": {},
   "source": [
    "### Reading ClinGraph into Python"
   ]
  },
  {
   "cell_type": "markdown",
   "id": "30a4ab68",
   "metadata": {},
   "source": [
    "Once downloaded, there are different ways to read in each graph object depending on the format:"
   ]
  },
  {
   "cell_type": "code",
   "execution_count": null,
   "id": "ed9a6cc3",
   "metadata": {},
   "outputs": [],
   "source": [
    "import os \n",
    "os.chdir(\"/n/holylfs06/LABS/mzitnik_lab/Lab/ruthjohnson/kg_paper_revision/harvard_dataverse/ClinGraph\")"
   ]
  },
  {
   "cell_type": "code",
   "execution_count": null,
   "id": "f80e37d8",
   "metadata": {},
   "outputs": [],
   "source": [
    "# DGL\n",
    "from dgl.data.utils import load_graphs\n",
    "graph_list, _ = load_graphs(\"ClinGraph_dgl.bin\")\n",
    "g = graph_list[0]\n",
    "\n",
    "# node features\n",
    "print(g.ndata['feat'])\n",
    "\n",
    "# node type (as indices)\n",
    "(g.ndata['ntype'])"
   ]
  },
  {
   "cell_type": "code",
   "execution_count": null,
   "id": "4b12d7c9",
   "metadata": {},
   "outputs": [],
   "source": [
    "# NetworkX\n",
    "import networkx as nx\n",
    "g = nx.read_adjlist(\"ClinGraph_adjlist.csv\")"
   ]
  },
  {
   "cell_type": "code",
   "execution_count": null,
   "id": "79559196",
   "metadata": {},
   "outputs": [],
   "source": [
    "# PyTorch Geometric\n",
    "from torch_geometric.data import Data\n",
    "import torch\n",
    "\n",
    "g = torch.load('ClinGraph_pyg.pt', weights_only=False)\n",
    "\n",
    "# node features\n",
    "print(g.x)"
   ]
  },
  {
   "cell_type": "markdown",
   "id": "e91d7845",
   "metadata": {},
   "source": [
    "### Downloading ClinVec embeddings from Harvard Dataverse\n",
    "\n",
    "The embeddings are located in the same repository as ClinGraph. We separate embedding files by source vocabulary. Each set of embeddings is saved as a pandas dataframe where the 128 columns correspond to the dimensions of the embedding and the row index matches the `node_index` which is described in `ClinGraph_node.csv`.\n",
    "\n",
    "There are a total of 9 files:\n",
    "\n",
    "- `ClinVec_atc.csv` \n",
    "- `ClinVec_cpt.csv`\n",
    "- `ClinVec_icd10cm.csv`\n",
    "- `ClinVec_icd9cm.csv`\n",
    "- `ClinVec_lnc.csv`\n",
    "- `ClinVec_phecode.csv`\n",
    "- `ClinVec_rxnorm.csv`\n",
    "- `ClinVec_snomedct.csv`\n",
    "- `ClinVec_umls.csv`\n"
   ]
  },
  {
   "cell_type": "markdown",
   "id": "fcb76149",
   "metadata": {},
   "source": [
    "### Reading in ClinVec embeddings into Python"
   ]
  },
  {
   "cell_type": "code",
   "execution_count": null,
   "id": "3a213d61",
   "metadata": {},
   "outputs": [],
   "source": [
    "import pandas as pd\n",
    "\n",
    "# load phecode embeddings\n",
    "df = pd.read_csv(\"ClinVec_phecode.csv\")\n",
    "df = df.set_index(df.columns[0])\n",
    "\n",
    "# get matrix of embeddings\n",
    "emb_mat = df.values\n",
    "\n",
    "# get node metadata\n",
    "node_df = pd.read_csv(\"ClinGraph_nodes.csv\", sep='\\t')\n",
    "df['node_index'] = df.index\n",
    "phecode_emb_df = df.merge(node_df, how='inner', on='node_index')"
   ]
  }
 ],
 "metadata": {
  "kernelspec": {
   "display_name": "venv_dgl",
   "language": "python",
   "name": "python3"
  },
  "language_info": {
   "codemirror_mode": {
    "name": "ipython",
    "version": 3
   },
   "file_extension": ".py",
   "mimetype": "text/x-python",
   "name": "python",
   "nbconvert_exporter": "python",
   "pygments_lexer": "ipython3",
   "version": "3.10.9"
  }
 },
 "nbformat": 4,
 "nbformat_minor": 5
}
